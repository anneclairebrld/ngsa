{
 "cells": [
  {
   "cell_type": "markdown",
   "metadata": {},
   "source": [
    "## Predicting Missing links in a citation network"
   ]
  },
  {
   "cell_type": "code",
   "execution_count": 68,
   "metadata": {},
   "outputs": [],
   "source": [
    "# global imports \n",
    "import random \n",
    "import numpy as np \n",
    "import pandas as pd\n",
    "import jgraph ## this was previously known as igraph\n",
    "import csv \n",
    "import matplotlib.pyplot as plt\n",
    "\n",
    "# machine learning imports\n",
    "from sklearn import svm \n",
    "from sklearn.feature_extraction.text import TfidfVectorizer\n",
    "from sklearn.metrics.pairwise import linear_kernel \n",
    "from sklearn import preprocessing \n",
    "\n",
    "import spacy"
   ]
  },
  {
   "cell_type": "markdown",
   "metadata": {},
   "source": [
    "### Import datasets"
   ]
  },
  {
   "cell_type": "code",
   "execution_count": 111,
   "metadata": {},
   "outputs": [],
   "source": [
    "# function to read data from txt files\n",
    "nodes_info_df = pd.read_csv('./data/node_information.csv')\n",
    "random_preds_df = pd.read_csv('./data/random_predictions.csv') \n",
    "test_set = pd.read_csv('./data/testing_set.txt', sep = ' ', header = None)\n",
    "train_set = pd.read_csv('./data/training_set.txt', sep = ' ', header = None)\n",
    "test_set.columns = ['source_id', 'target_id']\n",
    "train_set.columns = ['source_id', 'target_id', 'label']\n",
    "nodes_info_df.columns = ['paper_id', 'publication_year', 'title', 'author', 'journal_name', 'abstract']"
   ]
  },
  {
   "cell_type": "code",
   "execution_count": 94,
   "metadata": {},
   "outputs": [
    {
     "data": {
      "text/html": [
       "<div>\n",
       "<style scoped>\n",
       "    .dataframe tbody tr th:only-of-type {\n",
       "        vertical-align: middle;\n",
       "    }\n",
       "\n",
       "    .dataframe tbody tr th {\n",
       "        vertical-align: top;\n",
       "    }\n",
       "\n",
       "    .dataframe thead th {\n",
       "        text-align: right;\n",
       "    }\n",
       "</style>\n",
       "<table border=\"1\" class=\"dataframe\">\n",
       "  <thead>\n",
       "    <tr style=\"text-align: right;\">\n",
       "      <th></th>\n",
       "      <th>source_id</th>\n",
       "      <th>target_id</th>\n",
       "      <th>label</th>\n",
       "    </tr>\n",
       "  </thead>\n",
       "  <tbody>\n",
       "    <tr>\n",
       "      <th>0</th>\n",
       "      <td>9510123</td>\n",
       "      <td>9502114</td>\n",
       "      <td>1</td>\n",
       "    </tr>\n",
       "    <tr>\n",
       "      <th>1</th>\n",
       "      <td>9707075</td>\n",
       "      <td>9604178</td>\n",
       "      <td>1</td>\n",
       "    </tr>\n",
       "    <tr>\n",
       "      <th>2</th>\n",
       "      <td>9312155</td>\n",
       "      <td>9506142</td>\n",
       "      <td>0</td>\n",
       "    </tr>\n",
       "    <tr>\n",
       "      <th>3</th>\n",
       "      <td>9911255</td>\n",
       "      <td>302165</td>\n",
       "      <td>0</td>\n",
       "    </tr>\n",
       "    <tr>\n",
       "      <th>4</th>\n",
       "      <td>9701033</td>\n",
       "      <td>209076</td>\n",
       "      <td>0</td>\n",
       "    </tr>\n",
       "  </tbody>\n",
       "</table>\n",
       "</div>"
      ],
      "text/plain": [
       "   source_id  target_id  label\n",
       "0    9510123    9502114      1\n",
       "1    9707075    9604178      1\n",
       "2    9312155    9506142      0\n",
       "3    9911255     302165      0\n",
       "4    9701033     209076      0"
      ]
     },
     "execution_count": 94,
     "metadata": {},
     "output_type": "execute_result"
    }
   ],
   "source": [
    "train_set.head()"
   ]
  },
  {
   "cell_type": "code",
   "execution_count": 95,
   "metadata": {},
   "outputs": [
    {
     "data": {
      "text/html": [
       "<div>\n",
       "<style scoped>\n",
       "    .dataframe tbody tr th:only-of-type {\n",
       "        vertical-align: middle;\n",
       "    }\n",
       "\n",
       "    .dataframe tbody tr th {\n",
       "        vertical-align: top;\n",
       "    }\n",
       "\n",
       "    .dataframe thead th {\n",
       "        text-align: right;\n",
       "    }\n",
       "</style>\n",
       "<table border=\"1\" class=\"dataframe\">\n",
       "  <thead>\n",
       "    <tr style=\"text-align: right;\">\n",
       "      <th></th>\n",
       "      <th>source_id</th>\n",
       "      <th>target_id</th>\n",
       "    </tr>\n",
       "  </thead>\n",
       "  <tbody>\n",
       "    <tr>\n",
       "      <th>0</th>\n",
       "      <td>9807076</td>\n",
       "      <td>9807139</td>\n",
       "    </tr>\n",
       "    <tr>\n",
       "      <th>1</th>\n",
       "      <td>109162</td>\n",
       "      <td>1182</td>\n",
       "    </tr>\n",
       "    <tr>\n",
       "      <th>2</th>\n",
       "      <td>9702187</td>\n",
       "      <td>9510135</td>\n",
       "    </tr>\n",
       "    <tr>\n",
       "      <th>3</th>\n",
       "      <td>111048</td>\n",
       "      <td>110115</td>\n",
       "    </tr>\n",
       "    <tr>\n",
       "      <th>4</th>\n",
       "      <td>9910176</td>\n",
       "      <td>9410073</td>\n",
       "    </tr>\n",
       "  </tbody>\n",
       "</table>\n",
       "</div>"
      ],
      "text/plain": [
       "   source_id  target_id\n",
       "0    9807076    9807139\n",
       "1     109162       1182\n",
       "2    9702187    9510135\n",
       "3     111048     110115\n",
       "4    9910176    9410073"
      ]
     },
     "execution_count": 95,
     "metadata": {},
     "output_type": "execute_result"
    }
   ],
   "source": [
    "test_set.head()"
   ]
  },
  {
   "cell_type": "code",
   "execution_count": 96,
   "metadata": {},
   "outputs": [
    {
     "data": {
      "text/html": [
       "<div>\n",
       "<style scoped>\n",
       "    .dataframe tbody tr th:only-of-type {\n",
       "        vertical-align: middle;\n",
       "    }\n",
       "\n",
       "    .dataframe tbody tr th {\n",
       "        vertical-align: top;\n",
       "    }\n",
       "\n",
       "    .dataframe thead th {\n",
       "        text-align: right;\n",
       "    }\n",
       "</style>\n",
       "<table border=\"1\" class=\"dataframe\">\n",
       "  <thead>\n",
       "    <tr style=\"text-align: right;\">\n",
       "      <th></th>\n",
       "      <th>paper_id</th>\n",
       "      <th>publication_year</th>\n",
       "      <th>title</th>\n",
       "      <th>author</th>\n",
       "      <th>journal_name</th>\n",
       "      <th>abstract</th>\n",
       "    </tr>\n",
       "  </thead>\n",
       "  <tbody>\n",
       "    <tr>\n",
       "      <th>27764</th>\n",
       "      <td>9912289</td>\n",
       "      <td>2002</td>\n",
       "      <td>gauge fixing in the chain by chain method</td>\n",
       "      <td>A Shirzad, F Loran</td>\n",
       "      <td>NaN</td>\n",
       "      <td>in a recent work we showed that for a hamilton...</td>\n",
       "    </tr>\n",
       "    <tr>\n",
       "      <th>27765</th>\n",
       "      <td>9912290</td>\n",
       "      <td>2000</td>\n",
       "      <td>shuffling quantum field theory</td>\n",
       "      <td>Dirk Kreimer</td>\n",
       "      <td>Lett.Math.Phys.</td>\n",
       "      <td>we discuss shuffle identities between feynman ...</td>\n",
       "    </tr>\n",
       "    <tr>\n",
       "      <th>27766</th>\n",
       "      <td>9912291</td>\n",
       "      <td>1999</td>\n",
       "      <td>small object limit of casimir effect and the s...</td>\n",
       "      <td>O. Kenneth, S. Nussinov</td>\n",
       "      <td>Phys.Rev.</td>\n",
       "      <td>we show a simple way of deriving the casimir p...</td>\n",
       "    </tr>\n",
       "    <tr>\n",
       "      <th>27767</th>\n",
       "      <td>9912292</td>\n",
       "      <td>1999</td>\n",
       "      <td>1 4 pbgs and superparticle actions</td>\n",
       "      <td>F.Delduc, E. Ivanov, S. Krivonos</td>\n",
       "      <td>NaN</td>\n",
       "      <td>karpacz poland september 21-25 1999 we constru...</td>\n",
       "    </tr>\n",
       "    <tr>\n",
       "      <th>27768</th>\n",
       "      <td>9912293</td>\n",
       "      <td>2000</td>\n",
       "      <td>corrections to the abelian born-infeld action ...</td>\n",
       "      <td>L. Cornalba (I.H.E.S.)</td>\n",
       "      <td>JHEP</td>\n",
       "      <td>noncommutative geometry in a recent paper seib...</td>\n",
       "    </tr>\n",
       "  </tbody>\n",
       "</table>\n",
       "</div>"
      ],
      "text/plain": [
       "       paper_id  publication_year  \\\n",
       "27764   9912289              2002   \n",
       "27765   9912290              2000   \n",
       "27766   9912291              1999   \n",
       "27767   9912292              1999   \n",
       "27768   9912293              2000   \n",
       "\n",
       "                                                   title  \\\n",
       "27764          gauge fixing in the chain by chain method   \n",
       "27765                     shuffling quantum field theory   \n",
       "27766  small object limit of casimir effect and the s...   \n",
       "27767                 1 4 pbgs and superparticle actions   \n",
       "27768  corrections to the abelian born-infeld action ...   \n",
       "\n",
       "                                 author     journal_name  \\\n",
       "27764                A Shirzad, F Loran              NaN   \n",
       "27765                      Dirk Kreimer  Lett.Math.Phys.   \n",
       "27766           O. Kenneth, S. Nussinov        Phys.Rev.   \n",
       "27767  F.Delduc, E. Ivanov, S. Krivonos              NaN   \n",
       "27768            L. Cornalba (I.H.E.S.)             JHEP   \n",
       "\n",
       "                                                abstract  \n",
       "27764  in a recent work we showed that for a hamilton...  \n",
       "27765  we discuss shuffle identities between feynman ...  \n",
       "27766  we show a simple way of deriving the casimir p...  \n",
       "27767  karpacz poland september 21-25 1999 we constru...  \n",
       "27768  noncommutative geometry in a recent paper seib...  "
      ]
     },
     "execution_count": 96,
     "metadata": {},
     "output_type": "execute_result"
    }
   ],
   "source": [
    "nodes_info_df.tail()"
   ]
  },
  {
   "cell_type": "code",
   "execution_count": 97,
   "metadata": {},
   "outputs": [
    {
     "data": {
      "text/html": [
       "<div>\n",
       "<style scoped>\n",
       "    .dataframe tbody tr th:only-of-type {\n",
       "        vertical-align: middle;\n",
       "    }\n",
       "\n",
       "    .dataframe tbody tr th {\n",
       "        vertical-align: top;\n",
       "    }\n",
       "\n",
       "    .dataframe thead th {\n",
       "        text-align: right;\n",
       "    }\n",
       "</style>\n",
       "<table border=\"1\" class=\"dataframe\">\n",
       "  <thead>\n",
       "    <tr style=\"text-align: right;\">\n",
       "      <th></th>\n",
       "      <th>id</th>\n",
       "      <th>category</th>\n",
       "    </tr>\n",
       "  </thead>\n",
       "  <tbody>\n",
       "    <tr>\n",
       "      <th>0</th>\n",
       "      <td>0</td>\n",
       "      <td>0</td>\n",
       "    </tr>\n",
       "    <tr>\n",
       "      <th>1</th>\n",
       "      <td>1</td>\n",
       "      <td>0</td>\n",
       "    </tr>\n",
       "    <tr>\n",
       "      <th>2</th>\n",
       "      <td>2</td>\n",
       "      <td>1</td>\n",
       "    </tr>\n",
       "    <tr>\n",
       "      <th>3</th>\n",
       "      <td>3</td>\n",
       "      <td>1</td>\n",
       "    </tr>\n",
       "    <tr>\n",
       "      <th>4</th>\n",
       "      <td>4</td>\n",
       "      <td>1</td>\n",
       "    </tr>\n",
       "  </tbody>\n",
       "</table>\n",
       "</div>"
      ],
      "text/plain": [
       "   id  category\n",
       "0   0         0\n",
       "1   1         0\n",
       "2   2         1\n",
       "3   3         1\n",
       "4   4         1"
      ]
     },
     "execution_count": 97,
     "metadata": {},
     "output_type": "execute_result"
    }
   ],
   "source": [
    "random_preds_df.head()"
   ]
  },
  {
   "cell_type": "markdown",
   "metadata": {},
   "source": [
    "## Exploratory Analysis"
   ]
  },
  {
   "cell_type": "code",
   "execution_count": 98,
   "metadata": {},
   "outputs": [
    {
     "name": "stdout",
     "output_type": "stream",
     "text": [
      "Unique papers:  27769\n",
      "Unknown papers in test set (with nodes_info): 4369\n"
     ]
    }
   ],
   "source": [
    "print('Unique papers: ', len(set(nodes_info_df['paper_id'])))\n",
    "sym_diff = set(test_set['source_id'].append(test_set['target_id'])).symmetric_difference(set(nodes_info_df['paper_id']))\n",
    "print('Unknown papers in test set (with nodes_info):', len(sym_diff))"
   ]
  },
  {
   "cell_type": "code",
   "execution_count": 99,
   "metadata": {},
   "outputs": [
    {
     "data": {
      "text/plain": [
       "unknown                  7471\n",
       "Phys.Lett.               3575\n",
       "Nucl.Phys.               3571\n",
       "Phys.Rev.                3170\n",
       "JHEP                     1957\n",
       "Int.J.Mod.Phys.           938\n",
       "Mod.Phys.Lett.            936\n",
       "Class.Quant.Grav.         556\n",
       "J.Phys.                   536\n",
       "J.Math.Phys.              532\n",
       "Phys.Rev.Lett.            388\n",
       "Commun.Math.Phys.         377\n",
       "Phys.                     377\n",
       "Nucl.Phys.Proc.Suppl.     296\n",
       "Prog.Theor.Phys.          281\n",
       "Name: journal_name, dtype: int64"
      ]
     },
     "execution_count": 99,
     "metadata": {},
     "output_type": "execute_result"
    }
   ],
   "source": [
    "# get distribution of journal names \n",
    "nodes_info_df['journal_name'] = nodes_info_df['journal_name'].fillna('unknown')\n",
    "nodes_info_df.journal_name.value_counts()[:15]"
   ]
  },
  {
   "cell_type": "code",
   "execution_count": null,
   "metadata": {},
   "outputs": [],
   "source": [
    "## etc"
   ]
  },
  {
   "cell_type": "markdown",
   "metadata": {},
   "source": [
    "## Feature generation"
   ]
  },
  {
   "cell_type": "markdown",
   "metadata": {},
   "source": [
    "### Text features generation "
   ]
  },
  {
   "cell_type": "code",
   "execution_count": null,
   "metadata": {},
   "outputs": [],
   "source": [
    "def get_author():\n",
    "    pass\n",
    "\n",
    "def get_earliest_latest_publication_years_of_author():\n",
    "    pass\n",
    "\n",
    "def tfidf_abstract():\n",
    "    pass\n",
    "\n",
    "def journal_names_feature():\n",
    "    pass\n",
    "\n",
    "# etc"
   ]
  },
  {
   "cell_type": "markdown",
   "metadata": {},
   "source": [
    "### Graph features generation "
   ]
  },
  {
   "cell_type": "code",
   "execution_count": null,
   "metadata": {},
   "outputs": [],
   "source": [
    "def get_nodes_weights():\n",
    "    pass\n",
    "\n",
    "# get shortest path between two nodes\n",
    "def shortest_path_len():\n",
    "    pass\n",
    "\n",
    "# get in-betweeness\n",
    "def betweeness():\n",
    "    pass\n",
    "\n",
    "# etc"
   ]
  },
  {
   "cell_type": "markdown",
   "metadata": {},
   "source": [
    "## Learning Stuff"
   ]
  },
  {
   "cell_type": "code",
   "execution_count": 89,
   "metadata": {},
   "outputs": [],
   "source": [
    "# separate features from labels:\n",
    "X = train_set.loc[:, train_set.columns != 'label']\n",
    "y = train_set['label']"
   ]
  },
  {
   "cell_type": "code",
   "execution_count": 30,
   "metadata": {},
   "outputs": [
    {
     "data": {
      "text/plain": [
       "{'fit_time': array([40.51319671, 41.4107492 , 41.01260662, 40.26542211, 39.93710351,\n",
       "        40.21896553, 39.99013019, 40.75845671, 22.1292243 , 21.88988447]),\n",
       " 'score_time': array([0.96123648, 0.55183744, 0.87470293, 0.98230648, 0.95293164,\n",
       "        0.94798112, 1.00288892, 0.79165316, 0.53994036, 0.54101014]),\n",
       " 'test_score': array([0.70924234, 0.73411468, 0.74994179, 0.71633565, 0.73428369,\n",
       "        0.72075992, 0.75058599, 0.74589011, 0.71969778, 0.74943456])}"
      ]
     },
     "execution_count": 30,
     "metadata": {},
     "output_type": "execute_result"
    }
   ],
   "source": [
    "## Train different models and compare the performance \n",
    "from sklearn.tree import DecisionTreeClassifier\n",
    "from sklearn.ensemble import AdaBoostClassifier, RandomForestClassifier, BaggingClassifier, GradientBoostingClassifier\n",
    "from sklearn.metrics import  f1_score, confusion_matrix\n",
    "from sklearn.model_selection import cross_validate\n",
    "\n",
    "model = AdaBoostClassifier(n_estimators=50, learning_rate=1)\n",
    "scores = cross_validate(model, X, y, scoring='f1', \n",
    "                        cv=10, n_jobs=-1) # n_jobs is the number of cpus to use -1 => all\n",
    "scores"
   ]
  },
  {
   "cell_type": "code",
   "execution_count": 32,
   "metadata": {},
   "outputs": [
    {
     "data": {
      "text/plain": [
       "DescribeResult(nobs=10, minmax=(0.7092423428264374, 0.7505859928392963), mean=0.7330286516063008, variance=0.0002449243278408503, skewness=-0.16892931758355367, kurtosis=-1.5003847605685021)"
      ]
     },
     "execution_count": 32,
     "metadata": {},
     "output_type": "execute_result"
    }
   ],
   "source": [
    "# describe results from scores\n",
    "from scipy import stats \n",
    "stats.describe(scores['test_score'])"
   ]
  },
  {
   "cell_type": "code",
   "execution_count": null,
   "metadata": {},
   "outputs": [],
   "source": []
  },
  {
   "cell_type": "markdown",
   "metadata": {},
   "source": [
    "### Predicting using final model "
   ]
  },
  {
   "cell_type": "code",
   "execution_count": 109,
   "metadata": {},
   "outputs": [],
   "source": [
    "# 1: retrain the complete model -> don't forget to change this to optimal one @ end\n",
    "final_model = AdaBoostClassifier(n_estimators=50, learning_rate=1)\n",
    "final_model.fit(X, y)\n",
    "predictions = final_model.predict(test_set)\n",
    "\n",
    "# 2: predict on the test set\n",
    "out_df = test_set.copy()\n",
    "data = {'id': list(out_df.index), 'category': predictions}\n",
    "final_df = pd.DataFrame(data)\n",
    "\n",
    "\n",
    "# 3: write file out\n",
    "final_df.to_csv('submission.csv',index=False, sep=',')"
   ]
  },
  {
   "cell_type": "markdown",
   "metadata": {},
   "source": [
    "## The end"
   ]
  }
 ],
 "metadata": {
  "kernelspec": {
   "display_name": "Python 3",
   "language": "python",
   "name": "python3"
  },
  "language_info": {
   "codemirror_mode": {
    "name": "ipython",
    "version": 3
   },
   "file_extension": ".py",
   "mimetype": "text/x-python",
   "name": "python",
   "nbconvert_exporter": "python",
   "pygments_lexer": "ipython3",
   "version": "3.8.1"
  }
 },
 "nbformat": 4,
 "nbformat_minor": 4
}
