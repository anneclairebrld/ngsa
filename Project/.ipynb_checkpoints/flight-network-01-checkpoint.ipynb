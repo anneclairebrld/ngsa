{
 "cells": [
  {
   "cell_type": "code",
   "execution_count": 12,
   "metadata": {},
   "outputs": [],
   "source": [
    "import numpy as np\n",
    "import pandas as pd\n",
    "from datetime import datetime"
   ]
  },
  {
   "cell_type": "markdown",
   "metadata": {},
   "source": [
    "# Main steps: \n",
    "* Load data\n",
    "* Divide into test-train"
   ]
  },
  {
   "cell_type": "markdown",
   "metadata": {},
   "source": [
    "##  1. Load data"
   ]
  },
  {
   "cell_type": "code",
   "execution_count": 5,
   "metadata": {},
   "outputs": [],
   "source": [
    "filepath= './data/'\n",
    "\n",
    "# covid\n",
    "covid = pd.read_csv(filepath + '/covid19-US.csv')\n",
    "\n",
    "# flights\n",
    "flight_feb19 = pd.read_csv(filepath + '/flights-feb19.csv')\n",
    "flight_mar19 = pd.read_csv(filepath + '/flights-mar19.csv')\n",
    "flight_apr19 = pd.read_csv(filepath + '/flights-apr19.csv')\n",
    "\n",
    "flights_list = [flight_feb19, flight_mar19, flight_apr19] "
   ]
  },
  {
   "cell_type": "markdown",
   "metadata": {},
   "source": [
    "### 1.1. Create DataFrame (cleaned)"
   ]
  },
  {
   "cell_type": "code",
   "execution_count": 16,
   "metadata": {},
   "outputs": [],
   "source": [
    "def load_flights(mylist):\n",
    "    \n",
    "    '''input: list containing raw dataframe of flights for each months\n",
    "       output: full flight dataframe cleaned'''\n",
    "    \n",
    "    elements = []\n",
    "    \n",
    "    for i, element in enumerate(mylist): \n",
    "        element = element.drop(element.columns[[1,2,3,4,6,7,10]] , axis = 1)\n",
    "        element['DAY'] = element['FL_DATE'].apply(lambda x: datetime.strptime(x, '%Y-%m-%d').day)\n",
    "        element['MONTH'] = element['FL_DATE'].apply(lambda x: datetime.strptime(x, '%Y-%m-%d').month)\n",
    "        elements.append(element)\n",
    "        \n",
    "    df = pd.concat(elements)\n",
    "    return df\n",
    "\n",
    "flights = load_flights(flights_list)"
   ]
  },
  {
   "cell_type": "markdown",
   "metadata": {},
   "source": [
    "### 1.2. Divide into train-test"
   ]
  },
  {
   "cell_type": "code",
   "execution_count": 39,
   "metadata": {},
   "outputs": [],
   "source": [
    "from sklearn.model_selection import train_test_split\n",
    "flights_train, flights_test = train_test_split(flights, test_size=0.2, shuffle = False)"
   ]
  },
  {
   "cell_type": "markdown",
   "metadata": {},
   "source": [
    "The function 'train_test_split' results in a split in the middle of a day (13th april is divided between train and test). This will results in misscalculations hence the split is redefined so that the test sample includes the 13th april (and the train does not include it). "
   ]
  },
  {
   "cell_type": "code",
   "execution_count": 49,
   "metadata": {},
   "outputs": [],
   "source": [
    "mask = flights['FL_DATE'] < '2019-04-13'\n",
    "flights_train = flights[mask]\n",
    "flights_test = flights[~ mask]"
   ]
  },
  {
   "cell_type": "code",
   "execution_count": null,
   "metadata": {},
   "outputs": [],
   "source": [
    "flights_test = flights_test.groupby(['FL_DATE','ORIGIN_CITY_NAME','DEST_CITY_NAME']).sum()\n"
   ]
  },
  {
   "cell_type": "markdown",
   "metadata": {},
   "source": [
    "### 1.3. Something"
   ]
  },
  {
   "cell_type": "code",
   "execution_count": null,
   "metadata": {},
   "outputs": [],
   "source": []
  },
  {
   "cell_type": "code",
   "execution_count": null,
   "metadata": {},
   "outputs": [],
   "source": []
  }
 ],
 "metadata": {
  "kernelspec": {
   "display_name": "Python 3",
   "language": "python",
   "name": "python3"
  },
  "language_info": {
   "codemirror_mode": {
    "name": "ipython",
    "version": 3
   },
   "file_extension": ".py",
   "mimetype": "text/x-python",
   "name": "python",
   "nbconvert_exporter": "python",
   "pygments_lexer": "ipython3",
   "version": "3.7.6"
  }
 },
 "nbformat": 4,
 "nbformat_minor": 4
}
