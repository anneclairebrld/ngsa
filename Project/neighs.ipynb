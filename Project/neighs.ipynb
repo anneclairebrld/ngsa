{
  "nbformat": 4,
  "nbformat_minor": 0,
  "metadata": {
    "colab": {
      "name": "neighs.ipynb",
      "provenance": [],
      "collapsed_sections": []
    },
    "kernelspec": {
      "name": "python3",
      "display_name": "Python 3"
    }
  },
  "cells": [
    {
      "cell_type": "code",
      "metadata": {
        "id": "8Vjigz1h0Ga2",
        "colab_type": "code",
        "colab": {}
      },
      "source": [
        "import pandas as pd\n",
        "import networkx as nx"
      ],
      "execution_count": 0,
      "outputs": []
    },
    {
      "cell_type": "code",
      "metadata": {
        "id": "F5d-YNxX0Gjz",
        "colab_type": "code",
        "colab": {}
      },
      "source": [
        "from google.colab import drive\n",
        "drive.mount('/content/gdrive')"
      ],
      "execution_count": 0,
      "outputs": []
    },
    {
      "cell_type": "code",
      "metadata": {
        "id": "hFf2KhgyWkIi",
        "colab_type": "code",
        "colab": {}
      },
      "source": [
        "#filepath=\"/content/gdrive/My Drive/Network Analytics/data/\"\n",
        "filepath=''"
      ],
      "execution_count": 0,
      "outputs": []
    },
    {
      "cell_type": "code",
      "metadata": {
        "id": "n-4BJug6dzdl",
        "colab_type": "code",
        "colab": {}
      },
      "source": [
        "!pip install pyexcel_ods"
      ],
      "execution_count": 0,
      "outputs": []
    },
    {
      "cell_type": "code",
      "metadata": {
        "id": "03Hu9dVGeOJc",
        "colab_type": "code",
        "colab": {}
      },
      "source": [
        "transition_matrix=pd.read_excel(filepath+\"transition_matrix.ods\", engine=\"odf\")\n",
        "transition_matrix=transition_matrix.drop(transition_matrix[transition_matrix[\"Unnamed: 0\"].isnull()].index)\n",
        "transition_matrix.index=transition_matrix[\"Unnamed: 0\"]\n",
        "transition_matrix=transition_matrix.drop([\"Unnamed: 0\"], axis=1)\n",
        "transition_matrix.fillna(0,inplace=True)\n",
        "transition_matrix.shape"
      ],
      "execution_count": 0,
      "outputs": []
    },
    {
      "cell_type": "code",
      "metadata": {
        "id": "S0A-ZUHC_HEa",
        "colab_type": "code",
        "colab": {}
      },
      "source": [
        "transition_matrix.head()"
      ],
      "execution_count": 0,
      "outputs": []
    },
    {
      "cell_type": "code",
      "metadata": {
        "id": "DDyP7Bk7KeFl",
        "colab_type": "code",
        "colab": {}
      },
      "source": [
        "\n",
        "list(transition_matrix.columns)"
      ],
      "execution_count": 0,
      "outputs": []
    },
    {
      "cell_type": "code",
      "metadata": {
        "id": "PsMHIZ3J36tq",
        "colab_type": "code",
        "colab": {}
      },
      "source": [
        "import numpy as np\n",
        "  # initialize the population vector from the origin-destination flow matrix\n",
        "number_neighbourhoods = 59\n",
        "population_neighbourhoods  = np.random.randint(10000, 25000, number_neighbourhoods)  # number of locations\n",
        "# initialize the S group with the respective populations\n"
      ],
      "execution_count": 0,
      "outputs": []
    },
    {
      "cell_type": "code",
      "metadata": {
        "id": "hKvNJYwrkyUy",
        "colab_type": "code",
        "colab": {}
      },
      "source": [
        "# graph = nx.DiGraph()\n",
        "# graph.add_nodes_from(list(transition_matrix.columns))\n",
        "# graph=nx.from_numpy_matrix(OD_matrix_AN)\n"
      ],
      "execution_count": 0,
      "outputs": []
    },
    {
      "cell_type": "code",
      "metadata": {
        "id": "XHeVQs42gKR5",
        "colab_type": "code",
        "colab": {}
      },
      "source": [
        "## inititialise the infections \n",
        "SIR = np.zeros(shape=(number_neighbourhoods , 3)) # make a numpy array with 3 columns for keeping track of the S, I, R groups\n",
        "SIR[:,0] = population_neighbourhoods \n",
        "infections_initial = np.random.randint(1, 10, number_neighbourhoods)\n",
        "OD_matrix_AN = transition_matrix.copy().to_numpy()\n",
        "\n",
        "# change to OD matrix:\n",
        "for i in range(number_neighbourhoods):\n",
        "    transition_numbers = np.random.randint(100, 1000, number_neighbourhoods)\n",
        "    OD_matrix_AN[:,i] = OD_matrix_AN[:,i] * transition_numbers"
      ],
      "execution_count": 0,
      "outputs": []
    },
    {
      "cell_type": "code",
      "metadata": {
        "id": "RHpaPa_5SQkI",
        "colab_type": "code",
        "colab": {}
      },
      "source": [
        "\n",
        "\n",
        "# change the transition matrix of people in function of the problem that you are trying to solve \n",
        "#experiment_case = 'initial'\n",
        "experiment_case = 'reduce_imp_node'\n",
        "if experiment_case == 'initial':\n",
        "    pass\n",
        "elif experiment_case == 'reduce_imp_node':\n",
        "    graph = nx.DiGraph()\n",
        "    graph.add_nodes_from(list(transition_matrix.columns))\n",
        "    graph=nx.from_numpy_matrix(OD_matrix_AN)\n",
        "    centrality_dict = nx.degree_centrality(graph)\n",
        "    sorted_x = sorted(centrality_dict.items(), key=lambda x: x[1])\n",
        "    best_ones = sorted_x[-10:] \n",
        "    print(len(best_ones))\n",
        "    \n",
        "    # stop people from going in and out on the best ones --max 10 ?\n",
        "    for idx, value in best_ones:\n",
        "        max_people = np.random.randint(0, 15)\n",
        "        OD_matrix_AN[:, idx] = [0]*number_neighbourhoods\n",
        "# else: ## case 2\n",
        "#     for idx in range(number_neighbourhoods):\n",
        "#         max_people = 250\n",
        "#         OD_matrix_AN[:, idx] = np.where(OD_matrix_AN[idx,:] > 0, max_people, 0)\n",
        "\n",
        "SIR[:, 0] = [int(el - infections_initial[i]) for i, el in enumerate(SIR[:, 0] )]\n",
        "SIR[:, 1] = [int(el + infections_initial[i]) for i, el in enumerate(SIR[:, 1] )]                     \n"
      ],
      "execution_count": 0,
      "outputs": []
    },
    {
      "cell_type": "code",
      "metadata": {
        "id": "vEFFCzbehRxz",
        "colab_type": "code",
        "colab": {}
      },
      "source": [
        "infections_initial"
      ],
      "execution_count": 0,
      "outputs": []
    },
    {
      "cell_type": "code",
      "metadata": {
        "id": "xoyVcSpjnySN",
        "colab_type": "code",
        "colab": {}
      },
      "source": [
        "OD_matrix_AN"
      ],
      "execution_count": 0,
      "outputs": []
    },
    {
      "cell_type": "code",
      "metadata": {
        "id": "5NPOzVxn4FeA",
        "colab_type": "code",
        "colab": {}
      },
      "source": [
        "from tqdm import tqdm_notebook\n",
        "# row normalize the SIR matrix for keeping track of group proportions\n",
        "row_sums = SIR.sum(axis=1)\n",
        "SIR_n = SIR / row_sums[:, np.newaxis]\n",
        "\n",
        "# initialize parameters\n",
        "number_days = 200\n",
        "beta = 1.07\n",
        "gamma = 1/3.6\n",
        "public_trans = 0.5                               # alpha\n",
        "R0 = beta/gamma\n",
        "beta_vec = np.random.gamma(1.6, 2, locs_len)\n",
        "gamma_vec = np.full(locs_len, gamma)\n",
        "public_trans_vec = np.full(locs_len, public_trans)\n",
        "\n",
        "# make copy of the SIR matrices \n",
        "SIR_sim = SIR.copy()\n",
        "SIR_nsim = SIR_n.copy()\n",
        "\n",
        "# run model\n",
        "print(SIR_sim.sum(axis=0).sum() == N_k.sum())\n",
        "infected_pop_norm = []\n",
        "susceptible_pop_norm = []\n",
        "recovered_pop_norm = []\n",
        "\n",
        "for time_step in tqdm_notebook(range(number_days)):\n",
        "    infected_mat = np.array([SIR_nsim[:,1],]*locs_len).transpose()\n",
        "    OD_infected = np.round(OD_matrix_AN*infected_mat)\n",
        "    inflow_infected = OD_infected.sum(axis=0)\n",
        "    inflow_infected = np.round(inflow_infected*public_trans_vec)\n",
        "    print('total infected inflow: ', inflow_infected.sum())\n",
        "    new_infect = beta_vec*SIR_sim[:, 0]*inflow_infected/(N_k + OD_matrix_AN.sum(axis=0))\n",
        "    new_recovered = gamma_vec*SIR_sim[:, 1]\n",
        "    new_infect = np.where(new_infect>SIR_sim[:, 0], SIR_sim[:, 0], new_infect)\n",
        "    SIR_sim[:, 0] = SIR_sim[:, 0] - new_infect\n",
        "    SIR_sim[:, 1] = SIR_sim[:, 1] + new_infect - new_recovered\n",
        "    SIR_sim[:, 2] = SIR_sim[:, 2] + new_recovered\n",
        "    SIR_sim = np.where(SIR_sim<0,0,SIR_sim)\n",
        "    # recompute the normalized SIR matrix\n",
        "    row_sums = SIR_sim.sum(axis=1)\n",
        "    SIR_nsim = SIR_sim / row_sums[:, np.newaxis]\n",
        "    S = SIR_sim[:,0].sum()/N_k.sum()\n",
        "    I = SIR_sim[:,1].sum()/N_k.sum()\n",
        "    R = SIR_sim[:,2].sum()/N_k.sum()\n",
        "    print(S, I, R, (S+I+R)*N_k.sum(), N_k.sum())\n",
        "    print('\\n')\n",
        "    infected_pop_norm.append(I)\n",
        "    susceptible_pop_norm.append(S)\n",
        "    recovered_pop_norm.append(R)\n"
      ],
      "execution_count": 0,
      "outputs": []
    },
    {
      "cell_type": "code",
      "metadata": {
        "id": "Z6UUj5QqekMP",
        "colab_type": "code",
        "colab": {}
      },
      "source": [
        "import matplotlib.pyplot as plt\n",
        "days_array = range(number_days)\n",
        "plt.plot(days_array, infected_pop_norm, label='Infected Population')\n",
        "plt.plot(days_array, susceptible_pop_norm, label='Susceptible Population')\n",
        "plt.plot(days_array, recovered_pop_norm, label='Recovered Population')\n",
        "plt.legend(loc = 1)\n",
        "plt.xlabel('Day number')\n",
        "plt.ylabel('Population Fraction')\n",
        "plt.title('Evolution of number of SIR over time~')\n"
      ],
      "execution_count": 0,
      "outputs": []
    },
    {
      "cell_type": "code",
      "metadata": {
        "id": "rMnoh1K4iTfe",
        "colab_type": "code",
        "colab": {}
      },
      "source": [
        ""
      ],
      "execution_count": 0,
      "outputs": []
    }
  ]
}